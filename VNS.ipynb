{
  "nbformat": 4,
  "nbformat_minor": 0,
  "metadata": {
    "colab": {
      "provenance": [],
      "authorship_tag": "ABX9TyP2Hf52XONyojlsq8lMUPyO",
      "include_colab_link": true
    },
    "kernelspec": {
      "name": "python3",
      "display_name": "Python 3"
    },
    "language_info": {
      "name": "python"
    }
  },
  "cells": [
    {
      "cell_type": "markdown",
      "metadata": {
        "id": "view-in-github",
        "colab_type": "text"
      },
      "source": [
        "<a href=\"https://colab.research.google.com/github/abderrahimJK/abderrahimJK/blob/main/VNS.ipynb\" target=\"_parent\"><img src=\"https://colab.research.google.com/assets/colab-badge.svg\" alt=\"Open In Colab\"/></a>"
      ]
    },
    {
      "cell_type": "code",
      "source": [
        "!git init"
      ],
      "metadata": {
        "colab": {
          "base_uri": "https://localhost:8080/"
        },
        "id": "w6XCoemeYAjt",
        "outputId": "f7205a94-a36b-492b-dd4e-a6f4092a3960"
      },
      "execution_count": 6,
      "outputs": [
        {
          "output_type": "stream",
          "name": "stdout",
          "text": [
            "Initialized empty Git repository in /content/.git/\n"
          ]
        }
      ]
    },
    {
      "cell_type": "code",
      "execution_count": 1,
      "metadata": {
        "id": "i0ag42eLldIL"
      },
      "outputs": [],
      "source": [
        "import numpy as np\n",
        "from random import shuffle\n",
        "import random\n",
        "import itertools\n",
        "\n",
        "# to plot\n",
        "import matplotlib.pyplot as plt\n",
        "import matplotlib.animation as animation"
      ]
    },
    {
      "cell_type": "code",
      "source": [
        "def swap_cities(solution):\n",
        "  size = len(solution)\n",
        "  city_a, city_b = np.random.randint(0, size, 2)\n",
        "  new_solution = solution.copy()\n",
        "  new_solution[city_a], new_solution[city_b] = new_solution[city_b], new_solution[city_a]\n",
        "\n",
        "  return new_solution\n",
        "\n",
        "\n",
        "def insert_city(solution):\n",
        "  size = len(solution)\n",
        "  new_solution = solution.copy()\n",
        "  city_to_insert = np.random.randint(0, size)\n",
        "  if city_to_insert not in new_solution:\n",
        "    insert_indx = np.random.randint(0, size)\n",
        "    new_solution.insert(insert_indx, city_to_insert)\n",
        "\n",
        "  return new_solution\n",
        "  \n",
        "\n",
        "def reverse_subsequence(solution):\n",
        "  n = len(solution)\n",
        "  a = np.random.randint(0, n)\n",
        "  b = np.random.randint(0, n)\n",
        "  if a > b:\n",
        "      a, b = b, a\n",
        "  new_solution = solution[:a] + solution[a:b+1][::-1] + solution[b+1:]\n",
        "  return new_solution\n"
      ],
      "metadata": {
        "id": "9j142WK6pzhp"
      },
      "execution_count": 2,
      "outputs": []
    },
    {
      "cell_type": "code",
      "source": [
        "def VNS_TSP(cities, initial_solution, max_iter):\n",
        "  best_solution = initial_solution\n",
        "  k = 1\n",
        "  iteration = 0\n",
        "  while iteration<max_iter :\n",
        "    random_solution = shake(best_solution , k)\n",
        "    if len(random_solution) < len(best_solution):\n",
        "      best_solution = random_solution\n",
        "      k=1\n",
        "    else:\n",
        "      k = k+1\n",
        "    iteration+=1\n",
        "    return best_solution\n",
        "\n",
        "def shake(solution, k):\n",
        "  if k == 1:\n",
        "    new_solution = swap_cities(solution)\n",
        "  elif k==2:\n",
        "    new_solution = insert_city(solution)\n",
        "  else:\n",
        "    new_solution = reverse_subsequence(solution)\n",
        "  return new_solution\n"
      ],
      "metadata": {
        "id": "5xFGC29FlgI_"
      },
      "execution_count": 3,
      "outputs": []
    },
    {
      "cell_type": "code",
      "source": [
        "def get_initial_solution(cities):\n",
        "  size = len(cities)\n",
        "  initial_solution = list(range(size))\n",
        "  shuffle(initial_solution)\n",
        "  return initial_solution\n",
        "\n",
        "def plot_solution(cities, solution):\n",
        "    x = [cities[i][0] for i in solution]\n",
        "    y = [cities[i][1] for i in solution]\n",
        "    x.append(x[0])\n",
        "    y.append(y[0])\n",
        "    plt.plot(x, y, '-o')\n",
        "    plt.show()\n"
      ],
      "metadata": {
        "id": "v4V2G6IforQV"
      },
      "execution_count": 4,
      "outputs": []
    },
    {
      "cell_type": "code",
      "source": [
        "\n",
        "cities  = [(9, 1), (3, 7), (9, 5), (2, 6), (3, 8)]\n",
        "initial_solution = get_initial_solution(cities)\n",
        "best_solution = VNS_TSP(cities,initial_solution, 2)\n",
        "plot_solution(cities, best_solution)"
      ],
      "metadata": {
        "colab": {
          "base_uri": "https://localhost:8080/",
          "height": 430
        },
        "id": "xUQ21jcYpFw0",
        "outputId": "63158675-56f6-44d8-fbe8-d4849efa5e54"
      },
      "execution_count": 5,
      "outputs": [
        {
          "output_type": "display_data",
          "data": {
            "text/plain": [
              "<Figure size 640x480 with 1 Axes>"
            ],
            "image/png": "[encoded data removed]"
          },
          "metadata": {}
        }
      ]
    }
  ]
}